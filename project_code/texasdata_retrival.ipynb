{
 "cells": [
  {
   "cell_type": "code",
   "execution_count": null,
   "id": "995f8884-edcb-4770-8f0c-32156c339f88",
   "metadata": {
    "tags": []
   },
   "outputs": [],
   "source": [
    "import hvplot.pandas\n",
    "import pandas as pd\n",
    "import requests\n",
    "from pprint import pprint\n",
    "\n",
    "\n",
    "# Import API key\n",
    "from api_keys import walkscore_key\n",
    "url=\"https://api.walkscore.com/score?format=json&address=\""
   ]
  },
  {
   "cell_type": "code",
   "execution_count": null,
   "id": "d9b4e014-3aac-4aac-8817-90ae80b5684b",
   "metadata": {
    "tags": []
   },
   "outputs": [],
   "source": [
    "tx_data_df = pd.read_csv(\"../resources/obesity_data_tx.csv\")\n",
    "\n",
    "tx_data_df.head()"
   ]
  },
  {
   "cell_type": "code",
   "execution_count": null,
   "id": "136c338e-3830-41a0-b179-402b90bc9e87",
   "metadata": {
    "tags": []
   },
   "outputs": [],
   "source": [
    "tx_data_df[\"Walk Score\"]=''\n",
    "\n",
    "tx_data_df_cleaned=tx_data_df.dropna()\n",
    "tx_data_df_cleaned.head()\n"
   ]
  },
  {
   "cell_type": "code",
   "execution_count": null,
   "id": "f0ae5ce1-ea3b-436f-bdf1-c7ec05c5ebb7",
   "metadata": {
    "tags": []
   },
   "outputs": [],
   "source": [
    "def getWalkScore(lat, lon, city): \n",
    "    query_url = url+city+\"&lat=\"+lat+\"&lon=\"+lon+\"&wsapikey=\"+walkscore_key\n",
    "    walk_response=requests.get(query_url)\n",
    "    walk_json = walk_response.json() \n",
    "    return walk_json\n",
    " \n",
    "for index, row in tx_data_df_cleaned.iterrows():\n",
    "    try:\n",
    "\n",
    "        lat=str(row[\"Lat\"])\n",
    "        long=str(row[\"Lon\"])\n",
    "        city=row[\"CityName\"]\n",
    "        walk_json=getWalkScore(lat,long,city)\n",
    "        tx_data_df_cleaned.loc[index, \"Walk Score\"] = walk_json[\"walkscore\"]\n",
    "    except:\n",
    "        print(\"Data not found. Skipping\")\n",
    "        pass\n",
    "    \n"
   ]
  },
  {
   "cell_type": "code",
   "execution_count": null,
   "id": "20f402ad-8bcb-4679-8291-3d1eeab33738",
   "metadata": {
    "tags": []
   },
   "outputs": [],
   "source": [
    "tx_data_df_cleaned\n"
   ]
  },
  {
   "cell_type": "code",
   "execution_count": null,
   "id": "6ad70c7d-ec2c-4ad3-b99f-1799edb618b0",
   "metadata": {
    "tags": []
   },
   "outputs": [],
   "source": [
    "tx_data_df_cleaned.to_csv(\"../resources/cities_complete.csv\")\n"
   ]
  },
  {
   "cell_type": "code",
   "execution_count": null,
   "id": "24bf30f9-f7e3-4346-84e3-5f7a7cae580b",
   "metadata": {},
   "outputs": [],
   "source": []
  }
 ],
 "metadata": {
  "kernelspec": {
   "display_name": "Python 3 (ipykernel)",
   "language": "python",
   "name": "python3"
  },
  "language_info": {
   "codemirror_mode": {
    "name": "ipython",
    "version": 3
   },
   "file_extension": ".py",
   "mimetype": "text/x-python",
   "name": "python",
   "nbconvert_exporter": "python",
   "pygments_lexer": "ipython3",
   "version": "3.10.9"
  }
 },
 "nbformat": 4,
 "nbformat_minor": 5
}
