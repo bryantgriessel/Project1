import matplotlib.pyplot as plt
import pandas as pd
import scipy.stats as st

# Study data files
walkability_path = "Sources/walkability_database.csv"

# Read the mouse data and the study results
walkability_data = pd.read_csv(walkability_path)

# Combine the data into a single DataFrame

# Display the data table for preview
combined_study_df.head()