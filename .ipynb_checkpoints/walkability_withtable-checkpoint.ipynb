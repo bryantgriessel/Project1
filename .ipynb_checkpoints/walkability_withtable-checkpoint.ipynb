{
 "cells": [
  {
   "cell_type": "code",
   "execution_count": 9,
   "id": "f4136472-7a17-4588-b78a-23a49e9863db",
   "metadata": {
    "tags": []
   },
   "outputs": [],
   "source": [
    "import matplotlib.pyplot as plt\n",
    "import pandas as pd\n",
    "import scipy.stats as st\n",
    "from pathlib import Path  \n",
    "\n",
    "walkability_path = \"Sources/walk.gdbtable\"\n",
    "walkability_path = \"Sources/walkability_database.csv\"\n",
    "\n",
    "walkability_data = pd.read_csv(walkability_path)\n",
    "\n",
    "\n"
   ]
  },
  {
   "cell_type": "code",
   "execution_count": 7,
   "id": "30fb49f7-1909-4e4a-a24d-0b6eea7b635c",
   "metadata": {
    "tags": []
   },
   "outputs": [
    {
     "data": {
      "text/html": [
       "<div>\n",
       "<style scoped>\n",
       "    .dataframe tbody tr th:only-of-type {\n",
       "        vertical-align: middle;\n",
       "    }\n",
       "\n",
       "    .dataframe tbody tr th {\n",
       "        vertical-align: top;\n",
       "    }\n",
       "\n",
       "    .dataframe thead th {\n",
       "        text-align: right;\n",
       "    }\n",
       "</style>\n",
       "<table border=\"1\" class=\"dataframe\">\n",
       "  <thead>\n",
       "    <tr style=\"text-align: right;\">\n",
       "      <th></th>\n",
       "      <th>GEOID20</th>\n",
       "      <th>City</th>\n",
       "      <th>State</th>\n",
       "      <th>NatWalkInd</th>\n",
       "      <th>TotPop</th>\n",
       "      <th>P_WrkAge</th>\n",
       "      <th>AutoOwn0</th>\n",
       "      <th>AutoOwn1</th>\n",
       "      <th>AutoOwn2p</th>\n",
       "    </tr>\n",
       "  </thead>\n",
       "  <tbody>\n",
       "    <tr>\n",
       "      <th>0</th>\n",
       "      <td>4.811300e+11</td>\n",
       "      <td>Dallas-Fort Worth-Arlington</td>\n",
       "      <td>TX</td>\n",
       "      <td>14.000000</td>\n",
       "      <td>1202</td>\n",
       "      <td>0.549</td>\n",
       "      <td>69</td>\n",
       "      <td>39</td>\n",
       "      <td>315</td>\n",
       "    </tr>\n",
       "    <tr>\n",
       "      <th>1</th>\n",
       "      <td>4.811300e+11</td>\n",
       "      <td>Dallas-Fort Worth-Arlington</td>\n",
       "      <td>TX</td>\n",
       "      <td>10.833333</td>\n",
       "      <td>710</td>\n",
       "      <td>0.466</td>\n",
       "      <td>0</td>\n",
       "      <td>168</td>\n",
       "      <td>241</td>\n",
       "    </tr>\n",
       "    <tr>\n",
       "      <th>2</th>\n",
       "      <td>4.811300e+11</td>\n",
       "      <td>Dallas-Fort Worth-Arlington</td>\n",
       "      <td>TX</td>\n",
       "      <td>8.333333</td>\n",
       "      <td>737</td>\n",
       "      <td>0.811</td>\n",
       "      <td>19</td>\n",
       "      <td>143</td>\n",
       "      <td>167</td>\n",
       "    </tr>\n",
       "    <tr>\n",
       "      <th>3</th>\n",
       "      <td>4.811300e+11</td>\n",
       "      <td>Dallas-Fort Worth-Arlington</td>\n",
       "      <td>TX</td>\n",
       "      <td>15.666667</td>\n",
       "      <td>904</td>\n",
       "      <td>0.638</td>\n",
       "      <td>0</td>\n",
       "      <td>43</td>\n",
       "      <td>341</td>\n",
       "    </tr>\n",
       "    <tr>\n",
       "      <th>4</th>\n",
       "      <td>4.811300e+11</td>\n",
       "      <td>Dallas-Fort Worth-Arlington</td>\n",
       "      <td>TX</td>\n",
       "      <td>10.166667</td>\n",
       "      <td>948</td>\n",
       "      <td>0.506</td>\n",
       "      <td>5</td>\n",
       "      <td>67</td>\n",
       "      <td>271</td>\n",
       "    </tr>\n",
       "  </tbody>\n",
       "</table>\n",
       "</div>"
      ],
      "text/plain": [
       "        GEOID20                         City State  NatWalkInd  TotPop  \\\n",
       "0  4.811300e+11  Dallas-Fort Worth-Arlington    TX   14.000000    1202   \n",
       "1  4.811300e+11  Dallas-Fort Worth-Arlington    TX   10.833333     710   \n",
       "2  4.811300e+11  Dallas-Fort Worth-Arlington    TX    8.333333     737   \n",
       "3  4.811300e+11  Dallas-Fort Worth-Arlington    TX   15.666667     904   \n",
       "4  4.811300e+11  Dallas-Fort Worth-Arlington    TX   10.166667     948   \n",
       "\n",
       "   P_WrkAge  AutoOwn0  AutoOwn1  AutoOwn2p  \n",
       "0     0.549        69        39        315  \n",
       "1     0.466         0       168        241  \n",
       "2     0.811        19       143        167  \n",
       "3     0.638         0        43        341  \n",
       "4     0.506         5        67        271  "
      ]
     },
     "execution_count": 7,
     "metadata": {},
     "output_type": "execute_result"
    }
   ],
   "source": [
    "walkability_data[['City', 'State']] = walkability_data[\"CBSA_Name\"].apply(lambda x: pd.Series(str(x).split(\",\")))\n",
    "walkability_reduced_base=walkability_data[[\"GEOID20\",\"City\",\"State\",\"NatWalkInd\",\"TotPop\",\"P_WrkAge\",\"AutoOwn0\",\"AutoOwn1\",\"AutoOwn2p\"]]\n",
    "walkability_reduced_base.dropna(how=\"any\")\n",
    "walkability_reduced_base.head()\n"
   ]
  },
  {
   "cell_type": "code",
   "execution_count": 13,
   "id": "1ce34492-7e5e-45c2-84af-9785d7faf214",
   "metadata": {
    "tags": []
   },
   "outputs": [],
   "source": [
    "filepath = Path('Sources/walkability_cleaned.csv')  \n",
    "\n",
    "filepath.parent.mkdir(parents=True, exist_ok=True)  \n",
    "\n",
    "walkability_reduced_base.to_csv(filepath,index=False)"
   ]
  },
  {
   "cell_type": "code",
   "execution_count": null,
   "id": "545b72dc-8ebe-49d9-9d41-6b78e34bf3cf",
   "metadata": {},
   "outputs": [],
   "source": []
  }
 ],
 "metadata": {
  "kernelspec": {
   "display_name": "Python 3 (ipykernel)",
   "language": "python",
   "name": "python3"
  },
  "language_info": {
   "codemirror_mode": {
    "name": "ipython",
    "version": 3
   },
   "file_extension": ".py",
   "mimetype": "text/x-python",
   "name": "python",
   "nbconvert_exporter": "python",
   "pygments_lexer": "ipython3",
   "version": "3.10.9"
  }
 },
 "nbformat": 4,
 "nbformat_minor": 5
}
